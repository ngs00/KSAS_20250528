{
  "nbformat": 4,
  "nbformat_minor": 0,
  "metadata": {
    "colab": {
      "provenance": []
    },
    "kernelspec": {
      "name": "python3",
      "display_name": "Python 3"
    },
    "language_info": {
      "name": "python"
    }
  },
  "cells": [
    {
      "cell_type": "code",
      "execution_count": null,
      "metadata": {
        "id": "HXz0zQkLjSAD"
      },
      "outputs": [],
      "source": [
        "!pip install jcamp\n",
        "\n",
        "import jcamp\n",
        "import numpy\n",
        "import matplotlib.pyplot as plt\n",
        "from scipy.interpolate import interp1d"
      ]
    },
    {
      "cell_type": "markdown",
      "source": [
        "**Read JDX file of 2-Fluoro-3-(trifluoromethyl)benzonitrile.**"
      ],
      "metadata": {
        "id": "B3vmucAMkUgx"
      }
    },
    {
      "cell_type": "code",
      "source": [
        "jdx_file = '2-Fluoro-3-(trifluoromethyl)benzonitrile.jdx'\n",
        "irs = jcamp.jcamp_readfile(jdx_file)\n",
        "for key in irs.keys():\n",
        "    print('{}: {}'.format(key, irs[key]))\n",
        "wavenumber = irs['x']\n",
        "absorbance = irs['y']"
      ],
      "metadata": {
        "id": "ZdXPxfkjj-KS"
      },
      "execution_count": null,
      "outputs": []
    },
    {
      "cell_type": "markdown",
      "source": [
        "**Perform an imputation method to fill missing values.**"
      ],
      "metadata": {
        "id": "yl8TguFykY_R"
      }
    },
    {
      "cell_type": "code",
      "source": [
        "absorbance = numpy.nan_to_num(absorbance, nan=0)\n",
        "f_interpol = interp1d(wavenumber, absorbance, kind='linear', fill_value='extrapolate')\n",
        "wavenumber = numpy.arange(550, 4000 + 2, step=2)\n",
        "absorbance = f_interpol(wavenumber)\n",
        "plt.plot(wavenumber, absorbance)\n",
        "plt.show()\n",
        "plt.close()"
      ],
      "metadata": {
        "id": "zmQzvAt0kd8J"
      },
      "execution_count": null,
      "outputs": []
    },
    {
      "cell_type": "markdown",
      "source": [
        "**Customize the figure.**"
      ],
      "metadata": {
        "id": "i_EvLhKKkpWR"
      }
    },
    {
      "cell_type": "code",
      "source": [
        "plt.xlim([550, 4000])\n",
        "plt.ylim([0, 1])\n",
        "plt.grid()\n",
        "plt.plot(wavenumber, absorbance, color='k', linestyle='dashed')\n",
        "plt.show()\n",
        "plt.close()"
      ],
      "metadata": {
        "id": "iFSyo6bEkrMp"
      },
      "execution_count": null,
      "outputs": []
    },
    {
      "cell_type": "markdown",
      "source": [
        "**Set color based on the RGB code.**"
      ],
      "metadata": {
        "id": "3MAzWp_wku1B"
      }
    },
    {
      "cell_type": "code",
      "source": [
        "plt.xlim([550, 4000])\n",
        "plt.ylim([0, 1])\n",
        "plt.grid()\n",
        "plt.plot(wavenumber, absorbance, color='#D941C5')\n",
        "plt.show()\n",
        "plt.close()"
      ],
      "metadata": {
        "id": "Sd_fPGFykwgp"
      },
      "execution_count": null,
      "outputs": []
    }
  ]
}