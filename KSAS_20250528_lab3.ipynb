{
  "nbformat": 4,
  "nbformat_minor": 0,
  "metadata": {
    "colab": {
      "provenance": []
    },
    "kernelspec": {
      "name": "python3",
      "display_name": "Python 3"
    },
    "language_info": {
      "name": "python"
    }
  },
  "cells": [
    {
      "cell_type": "code",
      "execution_count": null,
      "metadata": {
        "id": "sLTIHygfqSoV"
      },
      "outputs": [],
      "source": [
        "!pip install jcamp\n",
        "!pip install rdkit\n",
        "\n",
        "import json\n",
        "import numpy\n",
        "from sklearn.neural_network import MLPClassifier\n",
        "from sklearn.metrics import f1_score\n",
        "from data import load_dataset"
      ]
    },
    {
      "cell_type": "markdown",
      "source": [
        "**Read the IR spectrum dataset.**"
      ],
      "metadata": {
        "id": "qboC-sDisvHO"
      }
    },
    {
      "cell_type": "code",
      "source": [
        "with open('metadata.json', 'r') as f:\n",
        "    metadata = json.load(f)\n",
        "\n",
        "# Target functional group: amide.\n",
        "target_fg = '[NX3][CX3](=[OX1])[#6]'\n",
        "train_x, train_y = load_dataset(metadata, 'dataset_train', target_fg)\n",
        "test_x, test_y = load_dataset(metadata, 'dataset_test', target_fg)\n",
        "print('Shape of the training dataset: {}'.format(train_x.shape))\n",
        "print('Shape of the test dataset: {}'.format(test_x.shape))"
      ],
      "metadata": {
        "id": "4cTJ5kGquiSF"
      },
      "execution_count": null,
      "outputs": []
    },
    {
      "cell_type": "markdown",
      "source": [
        "**Train a classification model.**"
      ],
      "metadata": {
        "id": "53l0phU7vz8s"
      }
    },
    {
      "cell_type": "code",
      "source": [
        "model = MLPClassifier(hidden_layer_sizes=128, batch_size=16, max_iter=500, verbose=True)\n",
        "model.fit(train_x, train_y)"
      ],
      "metadata": {
        "id": "W-4Yk7Ubv2xt"
      },
      "execution_count": null,
      "outputs": []
    },
    {
      "cell_type": "markdown",
      "source": [
        "**Evaluate the trained classification model.**"
      ],
      "metadata": {
        "id": "rU9GfKs2v95U"
      }
    },
    {
      "cell_type": "code",
      "source": [
        "preds = model.predict(test_x)\n",
        "acc = numpy.round(numpy.mean(preds == test_y), 2)\n",
        "f1 = numpy.round(f1_score(test_y, preds), 2)\n",
        "print('Detection accuracy: {:.2f}'.format(acc))\n",
        "print('F1-score: {:.2f}'.format(f1))\n",
        "\n",
        "import matplotlib.pyplot as plt\n",
        "from sklearn.metrics import confusion_matrix, ConfusionMatrixDisplay\n",
        "cm = confusion_matrix(test_y, preds)\n",
        "disp = ConfusionMatrixDisplay(cm)\n",
        "disp.plot()\n",
        "plt.show()\n",
        "plt.close()"
      ],
      "metadata": {
        "id": "--iEx3HWv_18"
      },
      "execution_count": null,
      "outputs": []
    }
  ]
}