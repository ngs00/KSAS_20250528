{
  "nbformat": 4,
  "nbformat_minor": 0,
  "metadata": {
    "colab": {
      "provenance": []
    },
    "kernelspec": {
      "name": "python3",
      "display_name": "Python 3"
    },
    "language_info": {
      "name": "python"
    }
  },
  "cells": [
    {
      "cell_type": "markdown",
      "source": [
        "**Import required packages.**"
      ],
      "metadata": {
        "id": "F-hColRBRvs7"
      }
    },
    {
      "cell_type": "code",
      "execution_count": null,
      "metadata": {
        "id": "YwSrA31XRh-X"
      },
      "outputs": [],
      "source": [
        "import pandas\n",
        "import random\n",
        "import numpy\n",
        "import matplotlib.pyplot as plt\n",
        "from sklearn.linear_model import LinearRegression\n",
        "from xgboost import XGBRegressor\n",
        "from sklearn.metrics import mean_absolute_error, r2_score"
      ]
    },
    {
      "cell_type": "markdown",
      "source": [
        "**Load the example dataset and split it into the training and evaluation datasets.**"
      ],
      "metadata": {
        "id": "8cxDRLHnR1cR"
      }
    },
    {
      "cell_type": "code",
      "source": [
        "dataset = pandas.read_excel('concrete_strength.xlsx').values.tolist()\n",
        "random.shuffle(dataset)\n",
        "dataset_train = numpy.vstack(dataset[:900])\n",
        "dataset_test = numpy.vstack(dataset[900:])\n",
        "\n",
        "print('Shape of the training dataset: {}'.format(dataset_train.shape))\n",
        "print(dataset_train)"
      ],
      "metadata": {
        "id": "R0s6wRgzR8Dy"
      },
      "execution_count": null,
      "outputs": []
    },
    {
      "cell_type": "markdown",
      "source": [
        "**Train a linear regression model.**"
      ],
      "metadata": {
        "id": "Q3rqD16nSUDB"
      }
    },
    {
      "cell_type": "code",
      "source": [
        "lin_model = LinearRegression()\n",
        "lin_model.fit(dataset_train[:, :-1], dataset_train[:, -1])\n",
        "\n",
        "print(dataset_train[:, :-1].shape, dataset_train[:, -1].shape)"
      ],
      "metadata": {
        "id": "5CoEG3FBSYaj"
      },
      "execution_count": null,
      "outputs": []
    },
    {
      "cell_type": "markdown",
      "source": [
        "**Evaluate the trained linear regression model.**"
      ],
      "metadata": {
        "id": "1jcR9ebwSbMh"
      }
    },
    {
      "cell_type": "code",
      "source": [
        "preds_test = lin_model.predict(dataset_test[:, :-1])\n",
        "mae_test = mean_absolute_error(dataset_test[:, -1], preds_test)\n",
        "r2_test = r2_score(dataset_test[:, -1], preds_test)\n",
        "\n",
        "print('Test MAE: {:.3f}\\tTest R2-score: {:.3f}'.format(mae_test, r2_test))\n",
        "plt.scatter(dataset_test[:, -1], preds_test)\n",
        "plt.grid()\n",
        "plt.show()\n",
        "plt.close()"
      ],
      "metadata": {
        "id": "Nq14ksMbSfEZ"
      },
      "execution_count": null,
      "outputs": []
    },
    {
      "cell_type": "markdown",
      "source": [
        "**Train an XGBoost model.**"
      ],
      "metadata": {
        "id": "9WsvAa_jSmwZ"
      }
    },
    {
      "cell_type": "code",
      "source": [
        "xgb_model = XGBRegressor(max_depth=5, n_estimators=300)\n",
        "xgb_model.fit(dataset_train[:, :-1], dataset_train[:, -1])"
      ],
      "metadata": {
        "id": "2YMoTCwbSpES"
      },
      "execution_count": null,
      "outputs": []
    },
    {
      "cell_type": "markdown",
      "source": [
        "**Evaluate the trained XGBoost model.**"
      ],
      "metadata": {
        "id": "EVeLCqeLSrwR"
      }
    },
    {
      "cell_type": "code",
      "source": [
        "preds_test = xgb_model.predict(dataset_test[:, :-1])\n",
        "mae_test = mean_absolute_error(dataset_test[:, -1], preds_test)\n",
        "r2_test = r2_score(dataset_test[:, -1], preds_test)\n",
        "\n",
        "print('Test MAE: {:.3f}\\tTest R2-score: {:.3f}'.format(mae_test, r2_test))\n",
        "plt.scatter(dataset_test[:, -1], preds_test)\n",
        "plt.grid()\n",
        "plt.show()\n",
        "plt.close()"
      ],
      "metadata": {
        "id": "X4yw1GUDSvHr"
      },
      "execution_count": null,
      "outputs": []
    }
  ]
}